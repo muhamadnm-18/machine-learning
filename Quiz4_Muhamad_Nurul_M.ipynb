{
  "nbformat": 4,
  "nbformat_minor": 0,
  "metadata": {
    "colab": {
      "name": "Quiz4_Muhamad Nurul M",
      "provenance": [],
      "collapsed_sections": [],
      "authorship_tag": "ABX9TyMe07yB3LEe5yBxe7h5zbhg",
      "include_colab_link": true
    },
    "kernelspec": {
      "name": "python3",
      "display_name": "Python 3"
    },
    "language_info": {
      "name": "python"
    }
  },
  "cells": [
    {
      "cell_type": "markdown",
      "metadata": {
        "id": "view-in-github",
        "colab_type": "text"
      },
      "source": [
        "<a href=\"https://colab.research.google.com/github/muhamadnm-18/machine-learning/blob/main/Quiz4_Muhamad_Nurul_M.ipynb\" target=\"_parent\"><img src=\"https://colab.research.google.com/assets/colab-badge.svg\" alt=\"Open In Colab\"/></a>"
      ]
    },
    {
      "cell_type": "code",
      "execution_count": 2,
      "metadata": {
        "id": "gmDO_QPG5OWO"
      },
      "outputs": [],
      "source": [
        "import numpy as np\n",
        "import matplotlib.pyplot as plt\n",
        "import pandas as pd"
      ]
    },
    {
      "cell_type": "code",
      "source": [
        "url = 'https://raw.githubusercontent.com/WildanBudiawanZ/pembelajaran-mesin/main/FuelConsumptionCo2.csv'\n",
        "cdf = pd.read_csv(url)\n",
        "\n",
        "cdf.describe()"
      ],
      "metadata": {
        "id": "xuJdOMj464a7"
      },
      "execution_count": null,
      "outputs": []
    },
    {
      "cell_type": "code",
      "source": [
        "cdf.head()"
      ],
      "metadata": {
        "id": "NYbZD4ccGFBK"
      },
      "execution_count": null,
      "outputs": []
    },
    {
      "cell_type": "code",
      "source": [
        "plt.scatter(cdf.CYLINDERS, cdf.FUELCONSUMPTION_CITY,  color='blue')\n",
        "plt.xlabel(\"Cylinders\")\n",
        "plt.ylabel(\"Fuel Consumption City\")\n",
        "plt.show()"
      ],
      "metadata": {
        "colab": {
          "base_uri": "https://localhost:8080/",
          "height": 279
        },
        "id": "2CKCxxP6GM7W",
        "outputId": "e319aa25-6971-45bc-915a-515e82d9edfc"
      },
      "execution_count": 28,
      "outputs": [
        {
          "output_type": "display_data",
          "data": {
            "text/plain": [
              "<Figure size 432x288 with 1 Axes>"
            ],
            "image/png": "[encoded data removed]"
          },
          "metadata": {
            "needs_background": "light"
          }
        }
      ]
    },
    {
      "cell_type": "code",
      "source": [
        "# get the \"cylinders\" as the independent variable (regressor)\n",
        "X = cdf.iloc[:, 5].values\n",
        "\n",
        "# get the \"city\" as the dependent variable\n",
        "y = cdf.iloc[:, 8].values\n",
        "\n",
        "\n",
        "# Reshape data because only use one features in \"cylinders\"\n",
        "X = X.reshape(-1,1)\n",
        "\n",
        "# Reshape data because only one features\n",
        "y = y.reshape(-1,1)\n",
        "\n",
        "# Splitting the dataset into the Training set and Test set\n",
        "X_train, X_test, y_train, y_test = train_test_split(X, y, test_size = 0.2, random_state = 0)\n",
        "\n",
        "# Feature Scaling\n",
        "from sklearn.preprocessing import StandardScaler\n",
        "sc_X = StandardScaler()\n",
        "sc_y = StandardScaler()\n",
        "X = sc_X.fit_transform(X)\n",
        "y = sc_y.fit_transform(y)"
      ],
      "metadata": {
        "id": "QMnrDv1PEjIb"
      },
      "execution_count": 18,
      "outputs": []
    },
    {
      "cell_type": "code",
      "source": [
        "# Fitting Random Forest Regression to the dataset\n",
        "from sklearn.ensemble import RandomForestRegressor\n",
        "regressor = RandomForestRegressor(n_estimators = 100)\n",
        "regressor.fit(X, y)"
      ],
      "metadata": {
        "id": "eCuwpiy8GSmk",
        "colab": {
          "base_uri": "https://localhost:8080/"
        },
        "outputId": "e0e07148-f306-4e25-d713-3b1a6e9ee26a"
      },
      "execution_count": 20,
      "outputs": [
        {
          "output_type": "stream",
          "name": "stderr",
          "text": [
            "/usr/local/lib/python3.7/dist-packages/ipykernel_launcher.py:4: DataConversionWarning: A column-vector y was passed when a 1d array was expected. Please change the shape of y to (n_samples,), for example using ravel().\n",
            "  after removing the cwd from sys.path.\n"
          ]
        },
        {
          "output_type": "execute_result",
          "data": {
            "text/plain": [
              "RandomForestRegressor()"
            ]
          },
          "metadata": {},
          "execution_count": 20
        }
      ]
    },
    {
      "cell_type": "code",
      "source": [
        "# Predicting a new result\n",
        "y_pred = regressor.predict(sc_X.transform(np.array([[1.3]])))\n",
        "\n",
        "y_pred = y_pred.reshape(-1, 1)\n",
        "y_pred = sc_y.inverse_transform(y_pred)\n",
        "y_pred"
      ],
      "metadata": {
        "colab": {
          "base_uri": "https://localhost:8080/"
        },
        "id": "km3plTAEGVp1",
        "outputId": "72a43370-86e4-4d8c-ad1b-9f148d0c662d"
      },
      "execution_count": 21,
      "outputs": [
        {
          "output_type": "execute_result",
          "data": {
            "text/plain": [
              "array([[6.89847741]])"
            ]
          },
          "metadata": {},
          "execution_count": 21
        }
      ]
    },
    {
      "cell_type": "code",
      "source": [
        "# Visualising the Random Forest Regression results (higher resolution) with scaling value\n",
        "X_grid = np.arange(min(X), max(X), 0.01)\n",
        "X_grid = X_grid.reshape((len(X_grid), 1))\n",
        "plt.scatter(X, y, color = 'green')\n",
        "plt.plot(X_grid, regressor.predict(X_grid), color = 'yellow')\n",
        "plt.title('Fuel Consumption City Dataset')\n",
        "plt.xlabel('Cylinders')\n",
        "plt.ylabel('Fuel Consumption City')\n",
        "plt.show()"
      ],
      "metadata": {
        "colab": {
          "base_uri": "https://localhost:8080/",
          "height": 295
        },
        "id": "uS5qVq5oGY3Y",
        "outputId": "2538ef6c-973e-4d84-85e1-54c2ae40ddc5"
      },
      "execution_count": 26,
      "outputs": [
        {
          "output_type": "display_data",
          "data": {
            "text/plain": [
              "<Figure size 432x288 with 1 Axes>"
            ],
            "image/png": "[encoded data removed]"
          },
          "metadata": {
            "needs_background": "light"
          }
        }
      ]
    }
  ]
}